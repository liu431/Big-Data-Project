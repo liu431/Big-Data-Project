{
 "cells": [
  {
   "cell_type": "markdown",
   "metadata": {},
   "source": [
    "### Sentiment Analysis of StackOverflow Comments\n",
    "\n",
    "Team: HackyStacks"
   ]
  },
  {
   "cell_type": "code",
   "execution_count": 92,
   "metadata": {},
   "outputs": [],
   "source": [
    "import pandas as pd\n",
    "import numpy as np\n",
    "import warnings\n",
    "warnings.filterwarnings(\"ignore\")"
   ]
  },
  {
   "cell_type": "code",
   "execution_count": 93,
   "metadata": {},
   "outputs": [],
   "source": [
    "#NLTK\n",
    "#don't need these if we use Vader\n",
    "import nltk\n",
    "#nltk.download()\n",
    "#from nltk.classify import NaiveBayesClassifier\n",
    "#from nltk.corpus import subjectivity\n",
    "#from nltk.sentiment import SentimentAnalyzer\n",
    "#from nltk.sentiment.util import *\n",
    "#from nltk.sentiment.vader import SentimentIntensityAnalyzer"
   ]
  },
  {
   "cell_type": "markdown",
   "metadata": {},
   "source": [
    "### StackOverflow Comments Data"
   ]
  },
  {
   "cell_type": "code",
   "execution_count": 99,
   "metadata": {},
   "outputs": [
    {
     "data": {
      "text/html": [
       "<div>\n",
       "<style scoped>\n",
       "    .dataframe tbody tr th:only-of-type {\n",
       "        vertical-align: middle;\n",
       "    }\n",
       "\n",
       "    .dataframe tbody tr th {\n",
       "        vertical-align: top;\n",
       "    }\n",
       "\n",
       "    .dataframe thead th {\n",
       "        text-align: right;\n",
       "    }\n",
       "</style>\n",
       "<table border=\"1\" class=\"dataframe\">\n",
       "  <thead>\n",
       "    <tr style=\"text-align: right;\">\n",
       "      <th></th>\n",
       "      <th>id</th>\n",
       "      <th>posttypeid</th>\n",
       "      <th>acceptedanswerid</th>\n",
       "      <th>creationdate</th>\n",
       "      <th>score</th>\n",
       "      <th>viewcount</th>\n",
       "      <th>body</th>\n",
       "      <th>owneruserid</th>\n",
       "      <th>lasteditoruserid</th>\n",
       "      <th>lasteditordisplayname</th>\n",
       "      <th>lasteditdate</th>\n",
       "      <th>lastactivitydate</th>\n",
       "      <th>title</th>\n",
       "      <th>tags</th>\n",
       "      <th>answercount</th>\n",
       "      <th>commentcount</th>\n",
       "      <th>favoritecount</th>\n",
       "      <th>communityowneddate</th>\n",
       "    </tr>\n",
       "  </thead>\n",
       "  <tbody>\n",
       "    <tr>\n",
       "      <th>0</th>\n",
       "      <td>4</td>\n",
       "      <td>1</td>\n",
       "      <td>7.0</td>\n",
       "      <td>2008-07-31T21:42:52.667</td>\n",
       "      <td>604</td>\n",
       "      <td>39047.0</td>\n",
       "      <td>&lt;p&gt;I want to use a track-bar to change a form'...</td>\n",
       "      <td>8.0</td>\n",
       "      <td>6786713.0</td>\n",
       "      <td>Rich B</td>\n",
       "      <td>2018-07-02T17:55:27.247</td>\n",
       "      <td>2019-01-17T13:39:48.937</td>\n",
       "      <td>Convert Decimal to Double?</td>\n",
       "      <td>&lt;c#&gt;&lt;floating-point&gt;&lt;type-conversion&gt;&lt;double&gt;&lt;...</td>\n",
       "      <td>13.0</td>\n",
       "      <td>2</td>\n",
       "      <td>46.0</td>\n",
       "      <td>2012-10-31T16:42:47.213</td>\n",
       "    </tr>\n",
       "    <tr>\n",
       "      <th>1</th>\n",
       "      <td>6</td>\n",
       "      <td>1</td>\n",
       "      <td>31.0</td>\n",
       "      <td>2008-07-31T22:08:08.620</td>\n",
       "      <td>273</td>\n",
       "      <td>17307.0</td>\n",
       "      <td>&lt;p&gt;I have an absolutely positioned &lt;code&gt;div&lt;/...</td>\n",
       "      <td>9.0</td>\n",
       "      <td>63550.0</td>\n",
       "      <td>Rich B</td>\n",
       "      <td>2016-03-19T06:05:48.487</td>\n",
       "      <td>2018-12-15T03:57:18.220</td>\n",
       "      <td>Percentage width child element in absolutely p...</td>\n",
       "      <td>&lt;html&gt;&lt;css&gt;&lt;css3&gt;&lt;internet-explorer-7&gt;</td>\n",
       "      <td>6.0</td>\n",
       "      <td>0</td>\n",
       "      <td>11.0</td>\n",
       "      <td>NaN</td>\n",
       "    </tr>\n",
       "    <tr>\n",
       "      <th>2</th>\n",
       "      <td>7</td>\n",
       "      <td>2</td>\n",
       "      <td>NaN</td>\n",
       "      <td>2008-07-31T22:17:57.883</td>\n",
       "      <td>418</td>\n",
       "      <td>NaN</td>\n",
       "      <td>&lt;p&gt;An explicit cast to double like this isn't ...</td>\n",
       "      <td>9.0</td>\n",
       "      <td>4020527.0</td>\n",
       "      <td>NaN</td>\n",
       "      <td>2017-12-16T05:06:57.613</td>\n",
       "      <td>2017-12-16T05:06:57.613</td>\n",
       "      <td>NaN</td>\n",
       "      <td>NaN</td>\n",
       "      <td>NaN</td>\n",
       "      <td>0</td>\n",
       "      <td>NaN</td>\n",
       "      <td>NaN</td>\n",
       "    </tr>\n",
       "    <tr>\n",
       "      <th>3</th>\n",
       "      <td>9</td>\n",
       "      <td>1</td>\n",
       "      <td>1404.0</td>\n",
       "      <td>2008-07-31T23:40:59.743</td>\n",
       "      <td>1743</td>\n",
       "      <td>519379.0</td>\n",
       "      <td>&lt;p&gt;Given a &lt;code&gt;DateTime&lt;/code&gt; representing ...</td>\n",
       "      <td>1.0</td>\n",
       "      <td>3956566.0</td>\n",
       "      <td>Rich B</td>\n",
       "      <td>2018-04-21T17:48:14.477</td>\n",
       "      <td>2018-07-25T11:57:14.110</td>\n",
       "      <td>How do I calculate someone's age in C#?</td>\n",
       "      <td>&lt;c#&gt;&lt;.net&gt;&lt;datetime&gt;</td>\n",
       "      <td>63.0</td>\n",
       "      <td>7</td>\n",
       "      <td>417.0</td>\n",
       "      <td>2011-08-16T19:40:43.080</td>\n",
       "    </tr>\n",
       "    <tr>\n",
       "      <th>4</th>\n",
       "      <td>11</td>\n",
       "      <td>1</td>\n",
       "      <td>1248.0</td>\n",
       "      <td>2008-07-31T23:55:37.967</td>\n",
       "      <td>1409</td>\n",
       "      <td>142726.0</td>\n",
       "      <td>&lt;p&gt;Given a specific &lt;code&gt;DateTime&lt;/code&gt; valu...</td>\n",
       "      <td>1.0</td>\n",
       "      <td>6479704.0</td>\n",
       "      <td>user2370523</td>\n",
       "      <td>2017-06-04T15:51:19.780</td>\n",
       "      <td>2019-01-03T08:03:07.237</td>\n",
       "      <td>Calculate relative time in C#</td>\n",
       "      <td>&lt;c#&gt;&lt;datetime&gt;&lt;time&gt;&lt;datediff&gt;&lt;relative-time-s...</td>\n",
       "      <td>36.0</td>\n",
       "      <td>3</td>\n",
       "      <td>536.0</td>\n",
       "      <td>2009-09-04T13:15:59.820</td>\n",
       "    </tr>\n",
       "  </tbody>\n",
       "</table>\n",
       "</div>"
      ],
      "text/plain": [
       "   id  posttypeid  acceptedanswerid             creationdate  score  \\\n",
       "0   4           1               7.0  2008-07-31T21:42:52.667    604   \n",
       "1   6           1              31.0  2008-07-31T22:08:08.620    273   \n",
       "2   7           2               NaN  2008-07-31T22:17:57.883    418   \n",
       "3   9           1            1404.0  2008-07-31T23:40:59.743   1743   \n",
       "4  11           1            1248.0  2008-07-31T23:55:37.967   1409   \n",
       "\n",
       "   viewcount                                               body  owneruserid  \\\n",
       "0    39047.0  <p>I want to use a track-bar to change a form'...          8.0   \n",
       "1    17307.0  <p>I have an absolutely positioned <code>div</...          9.0   \n",
       "2        NaN  <p>An explicit cast to double like this isn't ...          9.0   \n",
       "3   519379.0  <p>Given a <code>DateTime</code> representing ...          1.0   \n",
       "4   142726.0  <p>Given a specific <code>DateTime</code> valu...          1.0   \n",
       "\n",
       "   lasteditoruserid lasteditordisplayname             lasteditdate  \\\n",
       "0         6786713.0                Rich B  2018-07-02T17:55:27.247   \n",
       "1           63550.0                Rich B  2016-03-19T06:05:48.487   \n",
       "2         4020527.0                   NaN  2017-12-16T05:06:57.613   \n",
       "3         3956566.0                Rich B  2018-04-21T17:48:14.477   \n",
       "4         6479704.0           user2370523  2017-06-04T15:51:19.780   \n",
       "\n",
       "          lastactivitydate                                              title  \\\n",
       "0  2019-01-17T13:39:48.937                         Convert Decimal to Double?   \n",
       "1  2018-12-15T03:57:18.220  Percentage width child element in absolutely p...   \n",
       "2  2017-12-16T05:06:57.613                                                NaN   \n",
       "3  2018-07-25T11:57:14.110            How do I calculate someone's age in C#?   \n",
       "4  2019-01-03T08:03:07.237                      Calculate relative time in C#   \n",
       "\n",
       "                                                tags  answercount  \\\n",
       "0  <c#><floating-point><type-conversion><double><...         13.0   \n",
       "1             <html><css><css3><internet-explorer-7>          6.0   \n",
       "2                                                NaN          NaN   \n",
       "3                               <c#><.net><datetime>         63.0   \n",
       "4  <c#><datetime><time><datediff><relative-time-s...         36.0   \n",
       "\n",
       "   commentcount  favoritecount       communityowneddate  \n",
       "0             2           46.0  2012-10-31T16:42:47.213  \n",
       "1             0           11.0                      NaN  \n",
       "2             0            NaN                      NaN  \n",
       "3             7          417.0  2011-08-16T19:40:43.080  \n",
       "4             3          536.0  2009-09-04T13:15:59.820  "
      ]
     },
     "execution_count": 99,
     "metadata": {},
     "output_type": "execute_result"
    }
   ],
   "source": [
    "#replace with the most current comments file\n",
    "df = pd.read_csv(\"sample_posts.csv\", error_bad_lines=False)\n",
    "df.head()"
   ]
  },
  {
   "cell_type": "code",
   "execution_count": 100,
   "metadata": {},
   "outputs": [
    {
     "data": {
      "text/plain": [
       "0    <p>I want to use a track-bar to change a form'...\n",
       "1    <p>I have an absolutely positioned <code>div</...\n",
       "2    <p>An explicit cast to double like this isn't ...\n",
       "3    <p>Given a <code>DateTime</code> representing ...\n",
       "4    <p>Given a specific <code>DateTime</code> valu...\n",
       "Name: body, dtype: object"
      ]
     },
     "execution_count": 100,
     "metadata": {},
     "output_type": "execute_result"
    }
   ],
   "source": [
    "cm = df[\"body\"]\n",
    "cm.head()"
   ]
  },
  {
   "cell_type": "markdown",
   "metadata": {},
   "source": [
    "### VADER Sentiment Analysis"
   ]
  },
  {
   "cell_type": "markdown",
   "metadata": {},
   "source": [
    "* Valence Aware Dictionary and sEntiment Reasoner \n",
    "* a lexicon and rule-based sentiment analysis tool\n",
    "* for sentiments expressed in social media"
   ]
  },
  {
   "cell_type": "code",
   "execution_count": 35,
   "metadata": {},
   "outputs": [],
   "source": [
    "from vaderSentiment.vaderSentiment import SentimentIntensityAnalyzer\n",
    "analyser = SentimentIntensityAnalyzer()"
   ]
  },
  {
   "cell_type": "markdown",
   "metadata": {},
   "source": [
    "#### Positive, Negative and Neutral scores: proportion of text that falls in these categories\n",
    "#### Compound score: metric for magnitude of the sentiment intensity\n",
    "(influenced by punctuation, capitalization, degree modifiers, conjunctions, emojis, slangs and acronyms)\n",
    "* positive sentiment: compound score >= 0.05\n",
    "\n",
    "* neutral sentiment: (compound score > -0.05 & < 0.05)\n",
    "\n",
    "* negative sentiment: compound score <= -0.05"
   ]
  },
  {
   "cell_type": "code",
   "execution_count": 94,
   "metadata": {
    "collapsed": true
   },
   "outputs": [],
   "source": [
    "def sentiment_analyzer_scores(sentence):\n",
    "    score = analyser.polarity_scores(sentence)\n",
    "    return score[\"compound\"]"
   ]
  },
  {
   "cell_type": "code",
   "execution_count": 95,
   "metadata": {},
   "outputs": [
    {
     "data": {
      "text/plain": [
       "-0.5707"
      ]
     },
     "execution_count": 95,
     "metadata": {},
     "output_type": "execute_result"
    }
   ],
   "source": [
    "#Negative\n",
    "sentiment_analyzer_scores(\"this question is stupid!\")"
   ]
  },
  {
   "cell_type": "code",
   "execution_count": 96,
   "metadata": {},
   "outputs": [
    {
     "data": {
      "text/plain": [
       "0.0"
      ]
     },
     "execution_count": 96,
     "metadata": {},
     "output_type": "execute_result"
    }
   ],
   "source": [
    "#Neutral\n",
    "sentiment_analyzer_scores(\"you need a closing bracket\")"
   ]
  },
  {
   "cell_type": "code",
   "execution_count": 97,
   "metadata": {},
   "outputs": [
    {
     "data": {
      "text/plain": [
       "0.9183"
      ]
     },
     "execution_count": 97,
     "metadata": {},
     "output_type": "execute_result"
    }
   ],
   "source": [
    "#Positive\n",
    "sentiment_analyzer_scores(\"great! 😄 nice question!\")"
   ]
  },
  {
   "cell_type": "code",
   "execution_count": 104,
   "metadata": {},
   "outputs": [],
   "source": [
    "#append the sentiment score as new column\n",
    "df[\"sentiment\"]=df[\"body\"].apply(sentiment_analyzer_scores)"
   ]
  },
  {
   "cell_type": "code",
   "execution_count": 106,
   "metadata": {},
   "outputs": [
    {
     "data": {
      "image/png": "[encoded data removed]",
      "text/plain": [
       "<matplotlib.figure.Figure at 0x1d201043ef0>"
      ]
     },
     "metadata": {},
     "output_type": "display_data"
    }
   ],
   "source": [
    "#histogram of the scores\n",
    "import seaborn as sns\n",
    "import matplotlib.pyplot as plt\n",
    "\n",
    "plt.subplots(figsize=(5,3), dpi=100)\n",
    "sns.distplot(df[\"sentiment\"] ,color=\"dodgerblue\", label=\"Compound Scores\")\n",
    "plt.title('Compound Scores')\n",
    "plt.legend()\n",
    "plt.show()"
   ]
  },
  {
   "cell_type": "code",
   "execution_count": null,
   "metadata": {
    "collapsed": true
   },
   "outputs": [],
   "source": []
  },
  {
   "cell_type": "code",
   "execution_count": null,
   "metadata": {
    "collapsed": true
   },
   "outputs": [],
   "source": []
  },
  {
   "cell_type": "code",
   "execution_count": null,
   "metadata": {
    "collapsed": true
   },
   "outputs": [],
   "source": []
  },
  {
   "cell_type": "markdown",
   "metadata": {},
   "source": [
    "#### Reference\n",
    "Introduction to Vader:\n",
    "\n",
    "https://medium.com/analytics-vidhya/simplifying-social-media-sentiment-analysis-using-vader-in-python-f9e6ec6fc52f\n",
    "\n",
    "Origin paper to Vader:\n",
    "\n",
    "http://comp.social.gatech.edu/papers/icwsm14.vader.hutto.pdf\n",
    "\n",
    "Github project of Vader:\n",
    "\n",
    "https://github.com/cjhutto/vaderSentiment\n"
   ]
  }
 ],
 "metadata": {
  "kernelspec": {
   "display_name": "Python 3",
   "language": "python",
   "name": "python3"
  },
  "language_info": {
   "codemirror_mode": {
    "name": "ipython",
    "version": 3
   },
   "file_extension": ".py",
   "mimetype": "text/x-python",
   "name": "python",
   "nbconvert_exporter": "python",
   "pygments_lexer": "ipython3",
   "version": "3.6.7"
  }
 },
 "nbformat": 4,
 "nbformat_minor": 2
}
